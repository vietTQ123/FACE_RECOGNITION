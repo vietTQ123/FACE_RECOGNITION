{
 "cells": [
  {
   "cell_type": "code",
   "execution_count": 1,
   "metadata": {},
   "outputs": [],
   "source": [
    "import cv2  # Nhập thư viện OpenCV để xử lý hình ảnh và video\n",
    "import os   # Nhập thư viện os để tương tác với hệ thống tệp\n",
    "import time # Nhập thư viện time để làm việc với thời gian"
   ]
  },
  {
   "cell_type": "code",
   "execution_count": null,
   "metadata": {},
   "outputs": [
    {
     "name": "stderr",
     "output_type": "stream",
     "text": [
      "<>:15: SyntaxWarning: \"is\" with 'tuple' literal. Did you mean \"==\"?\n",
      "<>:15: SyntaxWarning: \"is\" with 'tuple' literal. Did you mean \"==\"?\n",
      "C:\\Users\\Admin\\AppData\\Local\\Temp\\ipykernel_5300\\1974299625.py:15: SyntaxWarning: \"is\" with 'tuple' literal. Did you mean \"==\"?\n",
      "  if faces is ():\n"
     ]
    },
    {
     "name": "stdout",
     "output_type": "stream",
     "text": [
      "Collecting samples is completed....\n"
     ]
    }
   ],
   "source": [
    "def generate_dataset():\n",
    "    # Tạo một đối tượng CascadeClassifier để phát hiện khuôn mặt\n",
    "    face_classifier = cv2.CascadeClassifier(\"C:\\\\Users\\\\Admin\\\\Documents\\\\EMBEDDED_LAB\\\\FACE_RECOGNITION\\\\BTL_THCS\\\\code\\\\haarcascade_frontalface_default.xml\")\n",
    "    \n",
    "    # Hàm để cắt khuôn mặt từ hình ảnh\n",
    "    def face_cropped(img):\n",
    "        # Chuyển đổi hình ảnh sang màu xám\n",
    "        gray = cv2.cvtColor(img, cv2.COLOR_BGR2GRAY)\n",
    "        # Phát hiện khuôn mặt trong hình ảnh\n",
    "        faces = face_classifier.detectMultiScale(gray, 1.3, 5)\n",
    "        # scaling factor = 1.3\n",
    "        # minimum neighbor = 5\n",
    "         \n",
    "        # Nếu không phát hiện khuôn mặt, trả về None\n",
    "        if faces is ():\n",
    "            return None\n",
    "        # Cắt khuôn mặt từ hình ảnh\n",
    "        for (x, y, w, h) in faces:\n",
    "            cropped_face = img[y:y+h, x:x+w]\n",
    "        return cropped_face\n",
    "     \n",
    "    # Mở camera (0 là camera máy tính, 1 là camera ngoài)\n",
    "    cap = cv2.VideoCapture(0) \n",
    "    time.sleep(2)  # Đợi 2 giây để camera khởi động\n",
    "    id = 0  # ID của người dùng\n",
    "    img_id = 0  # Biến đếm số lượng ảnh đã chụp\n",
    "    name = \"Trinh_Quoc_Viet\"  # Tên của người lưu ảnh\n",
    "    \n",
    "    while True:\n",
    "        # Đọc khung hình từ camera\n",
    "        ret, frame = cap.read()\n",
    "        # Nếu phát hiện khuôn mặt trong khung hình\n",
    "        if face_cropped(frame) is not None:\n",
    "            img_id += 1  # Tăng biến đếm ảnh\n",
    "            # Thay đổi kích thước khuôn mặt đã cắt\n",
    "            face = cv2.resize(face_cropped(frame), (200, 200))\n",
    "            # Tạo đường dẫn để lưu ảnh\n",
    "            file_name_path = \"C:\\\\Users\\\\Admin\\\\Documents\\\\EMBEDDED_LAB\\\\FACE_RECOGNITION\\\\BTL_THCS\\\\dataset\\\\\" + name + \".\" + str(id) + \".\" + str(img_id) + \".jpg\"\n",
    "            # Lưu ảnh khuôn mặt đã cắt\n",
    "            cv2.imwrite(file_name_path, face)\n",
    "            # Hiển thị số lượng ảnh đã chụp lên khuôn mặt\n",
    "            cv2.putText(face, str(img_id), (50, 50), cv2.FONT_HERSHEY_COMPLEX, 1, (0, 255, 0), 2)\n",
    "             \n",
    "            # Hiển thị khuôn mặt đã cắt\n",
    "            cv2.imshow(\"Cropped face\", face)\n",
    "             \n",
    "        # Dừng vòng lặp khi nhấn phím Enter hoặc đã chụp đủ 500 ảnh\n",
    "        if cv2.waitKey(1) == 13 or int(img_id) == 150:  # 13 là mã ASCII của phím Enter\n",
    "            break\n",
    "             \n",
    "    # Giải phóng camera và đóng tất cả các cửa sổ\n",
    "    cap.release()\n",
    "    cv2.destroyAllWindows()\n",
    "    print(\"Collecting samples is completed....\")\n",
    "\n",
    "# Gọi hàm để bắt đầu quá trình tạo tập dữ liệu\n",
    "generate_dataset()\n"
   ]
  },
  {
   "cell_type": "code",
   "execution_count": 7,
   "metadata": {},
   "outputs": [],
   "source": [
    "from PIL import Image  # Nhập thư viện PIL để xử lý hình ảnh\n",
    "import os              # Nhập thư viện os để tương tác với hệ thống tệp\n",
    "import re              # Nhập thư viện re để làm việc với biểu thức chính quy\n",
    "\n",
    "import matplotlib.pyplot as plt  # Nhập thư viện matplotlib để vẽ đồ thị\n",
    "import numpy as np               # Nhập thư viện numpy để xử lý mảng và tính toán số học\n",
    "\n",
    "import pylab as pl               # Nhập thư viện pylab để sử dụng các hàm vẽ đồ thị\n",
    "from matplotlib import pyplot as plt  # Nhập lại pyplot từ matplotlib (có thể không cần thiết)\n",
    "from sklearn.model_selection import train_test_split  # Nhập hàm để chia dữ liệu thành tập huấn luyện và kiểm tra\n",
    "from sklearn.model_selection import GridSearchCV       # Nhập hàm để tìm kiếm tham số tối ưu cho mô hình\n",
    "from sklearn.metrics import classification_report       # Nhập hàm để đánh giá mô hình phân loại\n",
    "from sklearn.decomposition import PCA                   # Nhập hàm PCA để giảm chiều dữ liệu\n",
    "from sklearn.svm import SVC                             # Nhập mô hình SVM để phân loại\n",
    "from skimage.feature import hog                          # Nhập hàm HOG để trích xuất đặc trưng hình ảnh\n"
   ]
  },
  {
   "cell_type": "code",
   "execution_count": null,
   "metadata": {},
   "outputs": [],
   "source": [
    "# Đường dẫn đến thư mục chứa dữ liệu hình ảnh\n",
    "folder = 'C:\\\\Users\\\\Admin\\\\Documents\\\\EMBEDDED_LAB\\\\FACE_RECOGNITION\\\\BTL_THCS\\\\dataset'\n",
    "X = []  # Danh sách để lưu trữ các đặc trưng hình ảnh\n",
    "Y = []  # Danh sách để lưu trữ nhãn tương ứng với các hình ảnh\n",
    "\n",
    "# Từ điển ánh xạ tên người với nhãn số (có thể tùy chỉnh)\n",
    "label_dict = {\n",
    "    \"Trinh_Quoc_Viet\": 1,\n",
    "    \"Le_Trung_Thanh\": 3,\n",
    "    \"Dao_Ha_Thai_Son\": 4\n",
    "    # Thêm người mới ở đây, ví dụ: \"Ten_Nguoi_Moi\": 4\n",
    "}\n",
    "\n",
    "# Duyệt qua tất cả các tệp trong thư mục\n",
    "for filename in os.listdir(folder):\n",
    "    # Mở hình ảnh từ tệp\n",
    "    img = Image.open(os.path.join(folder, filename))\n",
    "    # Thay đổi kích thước hình ảnh về 128x128 pixel\n",
    "    img = img.resize([128, 128])\n",
    "    \n",
    "    # Trích xuất đặc trưng HOG từ hình ảnh\n",
    "    fd, hog_image = hog(img, \n",
    "                      orientations=12,          # Số lượng hướng\n",
    "                      pixels_per_cell=(4, 4),  # Kích thước ô\n",
    "                      cells_per_block=(3, 3),   # Kích thước khối\n",
    "                      visualize=True,           # Hiển thị hình ảnh HOG\n",
    "                      channel_axis=-1)          # Trục kênh cho hình ảnh màu\n",
    "    X.append(fd)  # Thêm đặc trưng HOG vào danh sách X\n",
    "    \n",
    "    # Gán nhãn dựa trên tên người trong tên file\n",
    "    label_assigned = False  # Biến để kiểm tra xem nhãn đã được gán hay chưa\n",
    "    for name, label in label_dict.items():\n",
    "        # Kiểm tra xem tên trong từ điển có khớp với tên file không\n",
    "        if re.match(f\"{name}*\", filename):\n",
    "            Y.append(label)  # Thêm nhãn vào danh sách Y\n",
    "            label_assigned = True  # Đánh dấu là đã gán nhãn\n",
    "            break\n",
    "    if not label_assigned:\n",
    "        Y.append(-1)  # Nhãn không xác định nếu không khớp với bất kỳ tên nào\n",
    "\n"
   ]
  },
  {
   "cell_type": "code",
   "execution_count": 9,
   "metadata": {},
   "outputs": [
    {
     "name": "stdout",
     "output_type": "stream",
     "text": [
      "(97200,)\n"
     ]
    }
   ],
   "source": [
    "fd.shape  # Lấy kích thước của mảng đặc trưng HOG (fd)\n",
    "print(fd.shape)  # In kích thước của mảng đặc trưng HOG ra màn hình"
   ]
  },
  {
   "cell_type": "code",
   "execution_count": 10,
   "metadata": {},
   "outputs": [
    {
     "name": "stdout",
     "output_type": "stream",
     "text": [
      "[4, 4, 1, 3, 5, 4, 4, 1, 4, 3, 1, 4, 1, 5, 1, 1, 4, 4, 4, 1, 1, 1, 1, 4, 1, 1, 1, 3, 1, 3, 5, 3, 1, 1, 1, 1, 1, 1, 1, 4, 1, 4, 5, 5, 1, 3, 1, 4, 1, 1, 1, 1, 4, 1, 4, 4, 1, 1, 4, 3, 3, 4, 1, 1, 3, 4, 1, 3, 3, 4, 1, 3, 1, 3, 4, 1, 1, 3, 3, 4, 1, 1, 3, 1, 1, 1, 5, 4, 1, 1, 1, 4, 1, 4, 1, 1, 1, 3, 1, 1, 1, 4, 1, 3, 1, 1, 1, 3, 1, 5, 1, 1, 4, 1, 1, 5, 1, 1, 4, 4, 1, 3, 1, 1, 1, 1, 1, 4, 4, 3, 1, 4, 4, 1, 3, 1, 1, 3, 1, 3, 1, 3, 1, 1, 4, 1, 3, 4, 3, 4, 1, 5, 3, 1, 1, 4, 1, 1, 3, 1, 3, 4, 1, 1, 4, 1, 4, 1, 4, 1, 4, 4, 4, 4, 1, 4, 1, 1, 1, 1, 1, 4, 3, 1, 1, 3, 3, 5, 3, 1, 5, 3, 1, 1, 1, 1, 3, 3, 4, 1, 1, 1, 1, 1, 5, 3, 1, 1, 3, 1, 1, 1, 4, 4, 4, 1, 3, 1, 1, 1, 3, 3, 3, 1, 4, 3, 4, 5, 3, 3, 4, 3, 1, 1, 3, 4, 3, 3, 1, 3, 3, 4, 1, 1, 1, 4, 1, 3, 4, 1, 3, 3, 4, 1, 3, 1, 4, 3, 1, 1, 1, 3, 1, 4, 1, 5, 1, 4, 1, 3, 1, 1, 4, 3, 1, 1, 1, 4, 1, 5, 1, 1, 1, 1, 1, 4, 1, 1, 1, 4, 4, 1, 4, 5, 3, 1, 4, 4, 1, 1, 3, 1, 3, 1, 1, 4, 4, 1, 1, 1, 1, 5, 1, 3, 1, 1, 5, 1, 4, 1, 4, 1, 4, 1, 3, 4, 1, 1, 3, 1, 5, 1, 1, 3, 1, 4, 5, 4, 1, 1, 1, 1, 1, 4, 1, 3, 4, 1, 3, 1, 4, 3, 1, 1, 1, 4, 3, 1, 4, 4, 3, 4, 1, 1, 1, 3, 1, 1, 1, 1, 1, 1, 1, 3, 1, 4, 3, 1, 1, 3, 1, 1, 5, 4, 4, 1, 1, 1, 1, 4, 1, 3, 1, 1, 1, 1, 3, 3, 1, 1, 4, 5, 1, 4, 3, 1, 1, 1, 1, 4, 1, 4, 3, 4, 3, 1, 1, 4, 4, 1, 4, 1, 1, 4, 4, 1, 1, 4, 1, 4, 1, 1, 3, 4, 1, 4, 1, 1, 1, 3, 1, 1, 3, 1, 3, 5, 4, 1, 1, 1, 5, 3, 1, 1, 3, 1, 3, 5, 3, 1, 1, 1, 1, 5, 5, 4, 3, 1, 1, 1, 1, 3, 3, 1, 1, 1, 1, 1, 5, 4, 1, 1, 1, 4, 1, 1, 1, 3, 3, 3, 1, 1, 4, 1, 1, 1, 1, 5, 1, 4, 4, 1, 5, 1, 1, 1, 5, 1, 1, 5, 4, 3, 1, 4, 3, 5, 5, 5, 3, 4, 1, 4, 5, 1, 1, 1, 1, 1, 4, 1, 4, 1, 5, 3, 1, 4, 1, 3, 4, 4, 4, 3, 1, 4, 1, 4, 1, 1, 1, 1, 4, 4, 1, 1, 4, 3, 1, 4, 3, 1, 5, 1, 1, 4, 1, 4, 5, 1, 1, 1, 4, 3, 1, 3, 1, 5, 1, 4, 1, 3, 1, 1, 3, 1, 4, 3, 4, 1, 1, 1, 1, 3, 5, 1, 1, 1, 4, 1, 1, 1, 1, 1, 1, 1, 1, 1, 1, 3, 5, 4, 1, 3, 4, 1, 4, 1, 1, 1, 1, 1, 1, 1, 1, 3, 4, 1, 1, 4, 1, 1, 1, 1, 4, 3, 1, 1, 1, 1, 3, 3, 1, 1, 1, 4, 1, 1, 3, 3, 1, 1, 1, 3, 1, 3, 3, 1, 1, 1, 1, 4, 3, 1, 4, 1, 1, 5, 5, 1, 1, 1, 4, 1, 1, 1, 1, 3, 1, 1, 4, 1, 1, 3, 4, 3, 3, 1, 1, 3, 1, 1, 4, 3, 1, 1, 3, 1, 3, 1, 3, 1, 1, 1, 1, 1, 1, 3, 5, 3, 1, 1, 3, 4, 1, 3, 1, 1, 4, 3, 4, 4, 3, 1, 1, 3, 4, 4, 4, 4, 3, 1, 1, 1, 1, 1, 1, 1, 1, 1, 1, 4, 4, 1, 1, 3, 1, 1, 1, 4, 1, 3, 1, 4, 1, 1, 1, 4, 1, 5, 1, 1, 5, 1, 3, 3, 4, 1, 1, 4, 4, 1, 3, 4, 3, 5, 1, 4, 1, 1, 4, 3, 5, 1, 4, 4, 1, 1, 1, 5, 5, 4, 1, 1, 5, 1, 1, 1, 1, 1, 1, 1, 1, 1, 1, 1, 1, 1, 3, 1, 4, 1, 1, 1, 4, 1, 1, 4, 1, 3, 1, 4, 1, 1, 5, 3, 3, 4, 3, 1, 3, 5, 1, 1, 3, 3, 1, 1, 5, 1, 5, 1, 1, 1, 4, 3, 1, 5, 4, 5, 3, 3, 1, 5, 1, 1, 4, 4, 1, 1, 1, 1, 1, 4, 3, 1, 1, 3, 1, 4, 1, 1, 1, 1, 3, 3, 1, 4, 3, 4, 1, 1, 1, 1, 4, 1, 4, 1, 1, 1, 1, 1, 3, 3, 3, 4, 1, 4, 5, 1, 1, 1, 3, 4, 4, 3, 1, 4, 1, 1, 3, 1, 4, 3, 1, 1, 1, 3, 1, 5, 1, 1, 3, 1, 4, 1, 1, 4, 3, 3, 1, 4, 4, 4, 1, 1, 4, 1, 1, 1, 1, 1, 1, 3, 1, 1, 4, 1, 1, 1, 3, 1, 1, 1, 1, 1, 4, 4, 1, 1, 1, 1, 3, 3, 1, 4, 1, 4, 1, 4, 3, 4, 4, 1, 3, 3, 4, 3, 4, 4, 3, 1, 1, 3, 4, 4, 3, 4, 3, 1, 1, 1, 4, 1, 1, 1, 1, 1, 3, 3, 4, 1, 3, 3, 3, 1, 1, 3, 4, 1, 4, 1, 4, 1, 1, 3, 4, 5, 3, 4, 3, 1, 1, 1, 1, 1, 3, 1, 1, 1, 4, 3, 1, 1, 1, 1, 4, 1, 1, 1, 3, 3, 4, 3, 1, 1, 3, 1, 1, 1, 4, 1, 1, 1, 1, 4, 1, 4, 1, 4, 3, 3, 1, 1, 4, 1, 1, 1, 1, 1, 3, 1, 1, 1, 1, 1, 1, 1, 4, 3, 1, 5, 5, 1, 1, 1, 1, 3, 4, 1, 1, 4, 4, 4, 3, 3, 4, 3, 4, 3, 1, 3, 4, 1, 3, 5, 4, 4, 1, 4, 4, 5, 4, 4, 1, 1, 1, 3, 5, 1, 1, 1, 4, 3, 4, 3, 1, 1, 1, 3, 1, 3, 1, 1, 1, 5, 1, 4, 1, 4, 3, 1, 1, 4, 1, 4, 1, 1, 1, 1, 3, 1, 1, 4, 4, 4, 4, 1, 4, 3, 4, 1, 1, 1, 1, 1, 4, 4, 3, 3, 4, 4, 1, 1, 3, 3, 5, 1, 5, 1, 4, 4, 1, 4, 1, 3, 1, 1, 4, 1, 3, 3, 1, 1, 4, 4, 4, 3, 1, 1, 1, 3, 1, 1, 1, 1, 3, 5, 4, 4, 1, 4, 1, 1, 4, 4, 3, 4, 1, 1, 1, 4, 1, 4, 1, 1, 4, 1, 3, 1, 1, 4, 1, 1, 1, 1, 4, 1, 1, 3, 1, 1, 5, 1, 3, 1, 1, 1, 3, 3, 4, 4, 1, 1, 4, 1, 1, 3, 1, 3, 1, 4, 1, 3, 1, 1, 4, 4, 5, 4, 1, 1, 1, 1, 1, 1, 1, 1, 4, 4, 3, 4, 3, 1, 4, 1, 1, 1, 3, 3, 3, 1, 4, 1, 1, 1, 1, 5, 3, 1, 3, 4, 3, 3, 3, 1, 1, 3, 1, 1, 1, 1, 1, 5, 4, 3, 1, 1, 4, 5, 3, 3, 1, 5, 5, 4, 3, 1, 1, 1, 1, 1, 1, 1, 1, 1, 1, 1, 1, 1, 1, 1, 1, 1, 1, 1, 1, 3, 4, 1, 3, 1, 3, 1, 1, 4, 4, 1, 3, 3, 3, 1, 1, 1, 1, 3, 1, 4, 4, 5, 1, 3, 3, 1, 4, 1, 1, 1, 1, 1, 3, 4, 1, 1, 4, 1, 3, 4, 4, 1, 3, 1, 1, 1, 1, 5, 1, 1, 1, 1, 1, 3, 1, 3, 1, 1, 1, 1, 1, 4, 1, 1, 4, 1, 1, 1, 3, 3, 1, 4, 1, 1, 1, 1, 1, 1, 3, 3, 5, 1, 5, 3, 3, 3, 1, 4, 3, 1, 1, 1, 1, 1, 1, 3, 1, 5, 1, 4, 5, 3, 1, 1, 1, 1, 1, 3, 5, 5, 1, 1, 1, 3, 4, 1, 1, 3, 1, 1, 3, 3, 1, 4, 4, 4, 1, 1, 4, 4, 1, 4, 5, 1, 1, 1, 1, 1, 3, 4, 1, 1, 1, 3, 3, 4, 4, 1, 1, 1, 1, 4, 1, 1, 3, 1, 1, 1, 5, 1, 1, 1, 3, 4, 3, 4, 1, 1, 3, 3, 1, 1, 3, 1, 1, 4, 1, 1, 1, 1, 3, 1, 1, 3, 4, 4, 1, 1, 5, 1, 3, 1, 4, 3, 3, 1, 3, 3, 1, 1, 1, 1, 4, 4, 4, 1, 5, 1, 1, 1, 1, 1, 1, 1, 1, 1, 1, 1, 3, 3, 3, 1, 4, 3, 1, 5, 1, 1, 1, 4, 1, 1, 1, 3, 1, 1, 5, 1, 5, 5, 1, 5, 1, 4, 3, 1, 3, 1, 3, 3, 3, 1, 1, 3, 3, 1, 1, 5, 1, 1, 1, 4, 3, 1, 1, 5, 1, 3, 4, 3, 1, 1, 1, 3, 4, 4, 4, 5, 3, 3, 1, 1, 4, 1, 5, 3, 3, 1, 1, 3, 4, 3, 1, 1, 3, 1, 1, 1, 5, 4, 4, 3, 4, 1, 3, 3, 1, 1, 3, 1, 1, 4, 3, 1, 4, 1, 3, 1, 1, 3, 1, 1, 1, 4, 1, 1, 5, 4, 1, 5, 3, 3, 4, 4, 5, 1, 1, 5, 1, 4, 1, 3, 3, 1, 1, 1, 5, 3, 4, 1, 1, 1, 1, 1, 5, 4, 5, 1, 3, 1, 1, 1, 1, 1, 1, 1, 1, 1, 1, 4, 1, 5, 1, 3, 1, 1, 1, 4, 1, 4, 4, 1, 1, 1, 3, 3, 1, 1, 1, 4, 1, 1, 1, 1, 4, 1, 1, 3, 1, 3, 1, 1, 4, 1, 1, 1, 1, 1, 3, 1, 1, 3, 1, 1, 4, 1, 1, 1, 1, 3, 1, 4, 1, 3, 1, 1, 4, 4, 3, 4, 4, 4, 3, 1, 1, 1, 1, 1, 1, 1, 1, 3, 1, 1, 3, 4, 1, 3, 1, 1, 1, 1, 1, 1, 1, 1, 1, 3, 3, 1, 4, 3, 1, 1, 3, 1, 1, 5, 1, 1, 1, 1, 1, 1, 1, 1, 1, 1, 1, 1, 5, 3, 1, 1, 1, 1, 5, 3, 1, 1, 1, 1, 4, 5, 3, 3, 1, 1, 5, 4, 4, 3, 4, 1, 5, 1, 5, 1, 1, 1, 3, 1, 3, 3, 1, 4, 1, 1, 1, 1, 4, 1, 4, 1, 4, 1, 1, 1, 1, 1, 1, 4, 1, 1, 3, 4, 1, 3, 1, 3, 5, 3, 4, 1, 5, 1, 4, 3, 1, 5, 1, 4, 4, 1, 3, 1, 1, 5, 1, 1, 1, 4, 3, 1, 1, 1, 1, 1, 4, 1, 1, 3, 1, 1, 1, 3, 1, 1, 1, 3, 4, 1, 5, 1, 5, 4, 3, 1, 4, 4, 1, 1, 5, 1, 1, 1, 3, 1, 4, 1, 1, 4, 1, 4, 1, 1, 5, 1, 1, 3]\n",
      "[1, 1, 1, 1, 3, 1, 1, 3, 5, 1, 4, 1, 4, 1, 1, 1, 1, 1, 4, 3, 1, 1, 1, 4, 3, 1, 1, 3, 1, 1, 4, 1, 1, 4, 1, 4, 1, 1, 1, 3, 1, 1, 1, 3, 4, 1, 5, 3, 1, 1, 3, 1, 4, 1, 4, 1, 1, 1, 1, 1, 5, 4, 3, 5, 1, 1, 4, 1, 1, 3, 1, 1, 1, 4, 1, 4, 3, 1, 4, 1, 1, 4, 1, 3, 1, 1, 4, 1, 1, 3, 3, 4, 3, 4, 1, 3, 1, 1, 1, 3, 4, 1, 3, 4, 1, 1, 4, 1, 5, 1, 1, 3, 1, 1, 1, 1, 4, 1, 1, 4, 1, 1, 1, 4, 1, 1, 1, 1, 1, 3, 1, 4, 1, 1, 1, 1, 4, 1, 3, 3, 3, 3, 1, 3, 1, 1, 1, 4, 3, 5, 1, 1, 1, 3, 5, 1, 1, 1, 4, 1, 1, 1, 1, 1, 1, 3, 1, 4, 3, 3, 1, 4, 1, 1, 1, 3, 1, 1, 1, 3, 4, 4, 1, 3, 1, 1, 1, 1, 3, 5, 1, 1, 1, 5, 1, 1, 5, 1, 3, 1, 1, 3, 1, 1, 3, 1, 3, 4, 3, 3, 5, 1, 4, 3, 1, 3, 1, 3, 1, 4, 1, 1, 1, 1, 3, 3, 4, 1, 1, 1, 1, 4, 1, 4, 1, 4, 3, 4, 1, 4, 4, 1, 4, 1, 1, 1, 1, 4, 4, 3, 1, 4, 4, 4, 1, 1, 3, 1, 3, 3, 4, 3, 4, 1, 4, 5, 1, 1, 1, 1, 5, 1, 3, 4, 1, 1, 1, 3, 3, 1, 1, 1, 1, 1, 3, 1, 1, 1, 1, 3, 5, 4, 4, 1, 4, 1, 1, 1, 1, 3, 3, 5, 4, 1, 1, 1, 1, 1, 4, 5, 4, 4, 1, 1, 4, 1, 3, 1, 1, 4, 3, 1, 1, 1, 4, 4, 3, 5, 1, 5, 1, 1, 1, 3, 1, 1, 1, 3, 4, 3, 4, 1, 1, 4, 1, 1, 4, 1, 4, 4, 1, 1, 4, 1, 1, 1, 4, 1, 1, 1, 1, 4, 1, 4, 1, 1, 1, 3, 1, 1, 1, 4, 1, 1, 1, 1, 3, 3, 1, 1, 3, 4, 1, 4, 1, 1, 1, 4, 1, 1, 1, 3, 3, 1, 4, 3, 1, 3, 1, 4, 3, 1, 1, 4, 4, 5, 1, 4, 1, 1, 3, 1, 4, 1, 1, 1, 3, 1, 5, 4, 4, 3, 3, 1, 1, 5, 5, 1, 1, 1, 4, 1, 1, 1, 1, 1, 1, 3, 4, 5, 1, 1, 3, 3, 4, 3, 1, 1, 1, 1, 4, 4, 1, 1, 1, 4, 1, 5, 3, 1, 3, 1, 1, 5, 1, 3, 1, 4, 4, 1, 4, 4, 1, 1, 1, 1, 4, 3, 5, 3, 5, 4, 4, 4, 3, 1, 1, 3, 1, 3]\n"
     ]
    }
   ],
   "source": [
    "\n",
    "# Chia dữ liệu thành tập huấn luyện và tập kiểm tra\n",
    "# X_train: tập đặc trưng cho huấn luyện\n",
    "# X_test: tập đặc trưng cho kiểm tra\n",
    "# y_train: nhãn tương ứng cho tập huấn luyện\n",
    "# y_test: nhãn tương ứng cho tập kiểm tra\n",
    "X_train, X_test, y_train, y_test = train_test_split(X, Y, test_size=0.2, random_state=42)\n",
    "\n",
    "# In ra nhãn của tập huấn luyện\n",
    "# print(X_train)\n",
    "print(y_train)  # In ra nhãn của tập huấn luyện\n",
    "\n",
    "# print(X_test)\n",
    "print(y_test)  # In ra nhãn của tập kiểm tra\n"
   ]
  },
  {
   "cell_type": "code",
   "execution_count": 11,
   "metadata": {},
   "outputs": [
    {
     "name": "stdout",
     "output_type": "stream",
     "text": [
      "PCA(n_components=50, whiten=True)\n"
     ]
    }
   ],
   "source": [
    "\n",
    "n_components = 50  # Số lượng thành phần chính (components) cần giữ lại\n",
    "# Khởi tạo đối tượng PCA với số lượng thành phần đã chỉ định và bật tính năng làm trắng (whiten)\n",
    "# Sau đó, thực hiện việc huấn luyện PCA trên dữ liệu huấn luyện\n",
    "pca = PCA(n_components=n_components, whiten=True).fit(X_train) \n",
    "print(pca)  # In ra thông tin về đối tượng PCA đã được huấn luyện"
   ]
  },
  {
   "cell_type": "code",
   "execution_count": 12,
   "metadata": {},
   "outputs": [
    {
     "name": "stdout",
     "output_type": "stream",
     "text": [
      "[[-0.32297041  0.42154224 -0.77493374 ...  0.31419693 -0.47994467\n",
      "  -1.60142621]\n",
      " [-0.43463665  0.36440187 -0.56708416 ... -0.12448785  1.22299023\n",
      "   1.57509192]\n",
      " [ 0.89032386 -1.90124909  0.47062777 ...  0.87818601  0.41754595\n",
      "  -0.37481885]\n",
      " ...\n",
      " [ 0.66451628 -1.60963245 -0.06229927 ... -2.74877449 -1.20414485\n",
      "  -0.77571579]\n",
      " [ 1.16038673 -2.24320666  0.34016397 ... -0.33829546 -0.19120031\n",
      "  -0.97461173]\n",
      " [-0.75763036  0.13374489 -1.1927038  ... -2.38319054 -0.69255489\n",
      "   0.70213095]]\n",
      "[[-0.53507068  0.01361824  1.51983323 ...  0.01903042  0.37803112\n",
      "   0.44536532]\n",
      " [ 1.11929035 -2.09891609  0.41482415 ... -0.65950471 -0.96532824\n",
      "  -0.70356095]\n",
      " [-0.07964014 -0.16325354 -0.36324456 ... -1.40607923 -0.3833225\n",
      "   0.91735613]\n",
      " ...\n",
      " [-0.41952058  0.04995493 -0.8339022  ...  0.3546589  -0.70859981\n",
      "  -0.69144173]\n",
      " [ 2.1562056   1.49995568 -0.10042828 ... -0.06749171 -0.2953823\n",
      "   0.21803034]\n",
      " [-0.49657148 -0.10170192 -1.08622443 ... -0.91543912  0.46183883\n",
      "   0.88670089]]\n"
     ]
    }
   ],
   "source": [
    "# Chiếu dữ liệu huấn luyện vào không gian chiều thấp hơn bằng cách sử dụng PCA\n",
    "X_train_pca = pca.transform(X_train)\n",
    "\n",
    "# Chiếu dữ liệu kiểm tra vào không gian chiều thấp hơn bằng cách sử dụng PCA\n",
    "X_test_pca = pca.transform(X_test)\n",
    "\n",
    "# In ra dữ liệu huấn luyện đã được chiếu vào không gian chiều thấp hơn\n",
    "print(X_train_pca)\n",
    "\n",
    "# In ra dữ liệu kiểm tra đã được chiếu vào không gian chiều thấp hơn\n",
    "print(X_test_pca)"
   ]
  },
  {
   "cell_type": "code",
   "execution_count": 13,
   "metadata": {},
   "outputs": [],
   "source": [
    "\n",
    "import pickle as pk  # Nhập thư viện pickle để lưu trữ và tải các đối tượng Python\n",
    "\n",
    "# Lưu đối tượng PCA vào tệp \"c1_PCA.pkl\" bằng cách sử dụng pickle\n",
    "# \"wb\" chỉ định chế độ ghi nhị phân\n",
    "pk.dump(pca, open(\"c1_PCA.pkl\", \"wb\"))"
   ]
  },
  {
   "cell_type": "code",
   "execution_count": 14,
   "metadata": {},
   "outputs": [
    {
     "name": "stdout",
     "output_type": "stream",
     "text": [
      "Fitting the classifier to the training set\n"
     ]
    },
    {
     "name": "stderr",
     "output_type": "stream",
     "text": [
      "c:\\Users\\Admin\\Documents\\EMBEDDED_LAB\\FACE_RECOGNITION\\BTL_THCS\\face_env\\Lib\\site-packages\\numpy\\ma\\core.py:2892: RuntimeWarning: invalid value encountered in cast\n",
      "  _data = np.array(data, dtype=dtype, copy=copy,\n"
     ]
    },
    {
     "name": "stdout",
     "output_type": "stream",
     "text": [
      "Best estimator found by grid search:\n",
      "SVC(C=100.0, class_weight='balanced', degree=2, gamma=1e-05, probability=True)\n"
     ]
    }
   ],
   "source": [
    "\n",
    "# In thông báo trạng thái để cho biết quá trình huấn luyện phân loại bắt đầu\n",
    "print(\"Fitting the classifier to the training set\")\n",
    "\n",
    "# Định nghĩa lưới tham số cho việc điều chỉnh siêu tham số\n",
    "param_grid = {\n",
    "    'C': [1e2, 1e3, 5e3, 1e4, 5e4, 1e5],  # Các giá trị tham số điều chuẩn để thử nghiệm\n",
    "    'gamma': [0.00001, 0.0001, 0.0005, 0.001, 0.005],  # Hệ số kernel cho kernel 'rbf' và 'poly'\n",
    "    'kernel': ['rbf', 'poly'],  # Các loại kernel để đánh giá\n",
    "    'degree': [2, 3],  # Bậc đa thức cho kernel 'poly'\n",
    "    'class_weight': ['balanced']  # Tự động điều chỉnh trọng số theo tỷ lệ nghịch với tần suất lớp\n",
    "}\n",
    "\n",
    "# Khởi tạo GridSearchCV với bộ phân loại SVC\n",
    "# SVC được cấu hình ban đầu với kernel 'rbf', trọng số lớp cân bằng và bật tính năng ước lượng xác suất\n",
    "clf = GridSearchCV(SVC(kernel='rbf', class_weight='balanced', probability=True), param_grid)\n",
    "\n",
    "# Huấn luyện GridSearchCV trên dữ liệu huấn luyện (đặc trưng đã được biến đổi PCA và nhãn)\n",
    "clf = clf.fit(X_train_pca, y_train)\n",
    "\n",
    "# In ra bộ siêu tham số tốt nhất tìm được từ grid search\n",
    "print(\"Best estimator found by grid search:\")\n",
    "print(clf.best_estimator_)"
   ]
  },
  {
   "cell_type": "code",
   "execution_count": 15,
   "metadata": {},
   "outputs": [
    {
     "data": {
      "text/plain": [
       "['c2_svm_classifier.pkl']"
      ]
     },
     "execution_count": 15,
     "metadata": {},
     "output_type": "execute_result"
    }
   ],
   "source": [
    "# Nhập thư viện joblib để lưu mô hình\n",
    "import joblib\n",
    "\n",
    "# Lưu mô hình tốt nhất từ GridSearchCV vào file 'c2_svm_classifier.pkl' với nén dữ liệu (compress=1)\n",
    "joblib.dump(clf.best_estimator_, 'c2_svm_classifier.pkl', compress=1)  # Chỉ lưu các tham số tốt nhất"
   ]
  },
  {
   "cell_type": "code",
   "execution_count": 16,
   "metadata": {},
   "outputs": [
    {
     "data": {
      "text/plain": [
       "array([1, 1, 1, 1, 3, 1, 1, 3, 5, 1, 4, 1, 4, 1, 1, 1, 1, 1, 4, 3, 1, 1,\n",
       "       1, 4, 3, 1, 1, 3, 1, 1, 4, 1, 1, 4, 1, 4, 1, 1, 1, 3, 1, 1, 1, 3,\n",
       "       4, 1, 5, 3, 1, 1, 3, 1, 4, 1, 4, 1, 1, 1, 1, 1, 5, 4, 3, 5, 1, 1,\n",
       "       4, 1, 1, 3, 1, 1, 1, 4, 1, 4, 3, 1, 4, 1, 1, 4, 1, 3, 1, 1, 4, 1,\n",
       "       1, 3, 3, 4, 3, 4, 1, 3, 1, 1, 1, 3, 4, 1, 3, 4, 1, 1, 4, 1, 5, 1,\n",
       "       1, 3, 1, 1, 1, 1, 4, 1, 1, 4, 1, 1, 1, 4, 1, 1, 1, 1, 1, 3, 1, 4,\n",
       "       1, 1, 1, 1, 4, 1, 3, 3, 3, 3, 1, 3, 1, 1, 1, 4, 3, 5, 1, 1, 1, 3,\n",
       "       5, 1, 1, 1, 4, 1, 1, 1, 1, 1, 1, 3, 1, 4, 3, 3, 1, 4, 1, 1, 1, 3,\n",
       "       1, 1, 1, 3, 4, 4, 1, 3, 1, 1, 1, 1, 3, 5, 1, 1, 1, 5, 1, 1, 5, 1,\n",
       "       3, 1, 1, 3, 1, 1, 3, 1, 3, 4, 3, 3, 5, 1, 4, 3, 1, 3, 1, 3, 1, 4,\n",
       "       1, 1, 1, 1, 3, 3, 4, 1, 1, 1, 1, 4, 1, 4, 1, 4, 3, 4, 1, 4, 4, 1,\n",
       "       4, 1, 1, 1, 1, 4, 4, 3, 1, 4, 4, 4, 1, 1, 3, 1, 3, 3, 4, 3, 4, 1,\n",
       "       4, 5, 1, 1, 1, 1, 5, 1, 3, 4, 1, 1, 1, 3, 3, 1, 1, 1, 1, 1, 3, 1,\n",
       "       1, 1, 1, 3, 5, 4, 4, 1, 4, 1, 1, 1, 1, 3, 3, 5, 4, 1, 1, 1, 1, 1,\n",
       "       4, 5, 4, 4, 1, 1, 4, 1, 3, 1, 1, 4, 3, 1, 1, 1, 4, 4, 3, 5, 1, 5,\n",
       "       1, 1, 1, 3, 1, 1, 1, 3, 4, 3, 4, 1, 1, 4, 1, 1, 4, 1, 4, 4, 1, 1,\n",
       "       4, 1, 1, 1, 4, 1, 1, 1, 1, 4, 1, 4, 1, 1, 1, 3, 1, 1, 1, 4, 1, 1,\n",
       "       1, 1, 3, 3, 1, 1, 3, 4, 1, 4, 1, 1, 1, 4, 1, 1, 1, 3, 3, 1, 4, 3,\n",
       "       1, 3, 1, 4, 3, 1, 1, 4, 4, 5, 1, 4, 1, 1, 3, 1, 4, 1, 1, 1, 3, 1,\n",
       "       5, 4, 4, 3, 3, 1, 1, 5, 5, 1, 1, 1, 4, 1, 1, 1, 1, 1, 1, 3, 4, 5,\n",
       "       1, 1, 3, 3, 4, 3, 1, 1, 1, 1, 4, 4, 1, 1, 1, 4, 1, 5, 3, 1, 3, 1,\n",
       "       1, 5, 1, 3, 1, 4, 4, 1, 4, 4, 1, 1, 1, 1, 4, 3, 5, 3, 5, 4, 4, 4,\n",
       "       3, 1, 1, 3, 1, 3])"
      ]
     },
     "execution_count": 16,
     "metadata": {},
     "output_type": "execute_result"
    }
   ],
   "source": [
    "# Dự đoán nhãn cho tập kiểm tra bằng mô hình tốt nhất từ GridSearchCV\n",
    "y_pred = clf.predict(X_test_pca)\n",
    "\n",
    "# Hiển thị kết quả dự đoán\n",
    "y_pred"
   ]
  },
  {
   "cell_type": "code",
   "execution_count": 17,
   "metadata": {},
   "outputs": [
    {
     "name": "stdout",
     "output_type": "stream",
     "text": [
      "              precision    recall  f1-score   support\n",
      "\n",
      "           1       1.00      1.00      1.00       273\n",
      "           3       1.00      1.00      1.00        90\n",
      "           4       1.00      1.00      1.00       100\n",
      "           5       1.00      1.00      1.00        27\n",
      "\n",
      "    accuracy                           1.00       490\n",
      "   macro avg       1.00      1.00      1.00       490\n",
      "weighted avg       1.00      1.00      1.00       490\n",
      "\n",
      "[[273   0   0   0]\n",
      " [  0  90   0   0]\n",
      " [  0   0 100   0]\n",
      " [  0   0   0  27]]\n"
     ]
    }
   ],
   "source": [
    "# Nhập hàm confusion_matrix từ sklearn.metrics để tính ma trận nhầm lẫn\n",
    "from sklearn.metrics import confusion_matrix\n",
    "\n",
    "# Nhập thư viện matplotlib.pyplot để hỗ trợ vẽ biểu đồ (nếu cần)\n",
    "import matplotlib.pyplot as plt\n",
    "\n",
    "# In báo cáo phân loại, bao gồm các chỉ số như precision, recall, f1-score cho từng lớp\n",
    "print(classification_report(y_test, y_pred))\n",
    "\n",
    "# In ma trận nhầm lẫn để đánh giá số lượng dự đoán đúng và sai theo từng lớp\n",
    "print(confusion_matrix(y_test, y_pred))"
   ]
  }
 ],
 "metadata": {
  "kernelspec": {
   "display_name": "face_env",
   "language": "python",
   "name": "python3"
  },
  "language_info": {
   "codemirror_mode": {
    "name": "ipython",
    "version": 3
   },
   "file_extension": ".py",
   "mimetype": "text/x-python",
   "name": "python",
   "nbconvert_exporter": "python",
   "pygments_lexer": "ipython3",
   "version": "3.13.3"
  }
 },
 "nbformat": 4,
 "nbformat_minor": 2
}
